{
 "cells": [
  {
   "cell_type": "code",
   "execution_count": 1,
   "metadata": {},
   "outputs": [],
   "source": [
    "import os, sys\n",
    "sys.path.append(os.path.abspath(\"../\"))\n",
    "\n",
    "import pandas as pd\n",
    "import numpy as np\n",
    "\n",
    "%load_ext autoreload\n",
    "%autoreload 2\n",
    "from config import defaults\n",
    "from workplaces.workplace import WorkPlace\n",
    "\n",
    "from calculators.reg_tr_calculator import TR_calculator as RegTrCalc\n",
    "from calculators.reg_base_flow_rail_matrix_calculator import RegBaseRailFlowCalc\n",
    "from calculators.reg_base_flow_avia_matrix_calculator import RegBaseAviaFlowCalc\n",
    "from calculators.reg_dm_calculator import RegDMCalc\n",
    "from calculators.reg_forecast_potentials_calculator import RegForecastPotentialsCalc\n",
    "from calculators.matrix_balance_calculator import Fratar"
   ]
  },
  {
   "cell_type": "code",
   "execution_count": 2,
   "metadata": {},
   "outputs": [],
   "source": [
    "# Рабочая область\n",
    "wp = WorkPlace(name='rounet_loko',\n",
    "               config=defaults,\n",
    "               db_type='mongo')\n",
    "# Дата провайдер\n",
    "dp = wp.data_provider\n",
    "\n",
    "# wp.db.drop_table('test')"
   ]
  },
  {
   "cell_type": "markdown",
   "metadata": {},
   "source": [
    "### Генерация и сохранение ТР"
   ]
  },
  {
   "cell_type": "code",
   "execution_count": null,
   "metadata": {},
   "outputs": [],
   "source": [
    "# municipalities_df = dp.get_dataset(dataset_name='mun_soc')\n",
    "\n",
    "# tr_calc = RegTrCalc(municipalities_df)\n",
    "# tr_calc.generate_tr()\n",
    "\n",
    "# dp.save_dataset(dataset=tr_calc.trs,\n",
    "#                 collection_name='trs',\n",
    "#                 version_name='base')\n",
    "\n",
    "# trs = dp.get_dataset(dataset_name='trs',\n",
    "#                      version_name='base')"
   ]
  },
  {
   "cell_type": "markdown",
   "metadata": {
    "scrolled": true
   },
   "source": [
    "### Генерация базовой матрицы потоков"
   ]
  },
  {
   "cell_type": "code",
   "execution_count": null,
   "metadata": {},
   "outputs": [],
   "source": [
    "# # ТР\n",
    "# trs = dp.get_dataset(dataset_name='trs',\n",
    "#                      version_name='base')\n",
    "\n",
    "# # ЖД\n",
    "# flows_rail = dp.get_dataset(dataset_name='flows_rail')\n",
    "# plos_express_info = dp.get_dataset(dataset_name='plos_express_info')\n",
    "# # АВИА\n",
    "# flows_avia = dp.get_dataset(dataset_name='flows_avia')\n",
    "# plos_avia_info = dp.get_dataset(dataset_name='plos_avia')"
   ]
  },
  {
   "cell_type": "code",
   "execution_count": null,
   "metadata": {},
   "outputs": [],
   "source": [
    "# rail_regbf_calc = RegBaseRailFlowCalc(trs=trs,\n",
    "#                              flows_base=flows_rail,\n",
    "#                              plos_express_info=plos_express_info)\n",
    "# rail_regbf_calc.generate_base_matrix()\n",
    "\n",
    "# dp.save_dataset(dataset=rail_regbf_calc.save_dict,\n",
    "#                 collection_name='flow_base_matrix',\n",
    "#                 version_name='base',\n",
    "#                 transport_type='rail')"
   ]
  },
  {
   "cell_type": "code",
   "execution_count": null,
   "metadata": {},
   "outputs": [],
   "source": [
    "# avia_regbf_calc = RegBaseAviaFlowCalc(trs=trs,\n",
    "#                              flows_base=flows_avia,\n",
    "#                              plos_info=plos_avia_info)\n",
    "# avia_regbf_calc.generate_base_matrix()\n",
    "\n",
    "# dp.save_dataset(dataset=avia_regbf_calc.save_dict,\n",
    "#                 collection_name='flow_base_matrix',\n",
    "#                 version_name='base',\n",
    "#                 transport_type='avia')"
   ]
  },
  {
   "cell_type": "code",
   "execution_count": null,
   "metadata": {},
   "outputs": [],
   "source": [
    "# rail_fbm = dp.get_dataset(dataset_name='flow_base_matrix',\n",
    "#                           version_name='base',\n",
    "#                           transport_type='rail')\n",
    "# avia_fbm = dp.get_dataset(dataset_name='flow_base_matrix',\n",
    "#                           version_name='base',\n",
    "#                           transport_type='avia')\n",
    "\n",
    "# fbm = rail_fbm + avia_fbm\n",
    "# fbm.sum()"
   ]
  },
  {
   "cell_type": "markdown",
   "metadata": {},
   "source": [
    "### Генерация матрицы расстояний"
   ]
  },
  {
   "cell_type": "code",
   "execution_count": null,
   "metadata": {},
   "outputs": [],
   "source": [
    "# trs = dp.get_dataset(dataset_name='trs',\n",
    "#                      version_name='base')\n",
    "\n",
    "# reg_dm_calc = RegDMCalc(trs=trs,\n",
    "#                         calc_type='by_ort')\n",
    "# reg_dm_calc.generate_dm()\n",
    "\n",
    "# dp.save_dataset(dataset=reg_dm_calc.save_dict,\n",
    "#                 collection_name='dist_matrix',\n",
    "#                 version_name='base')\n",
    "\n",
    "# dm = dp.get_dataset(dataset_name='dist_matrix',\n",
    "#                 version_name='base')"
   ]
  },
  {
   "cell_type": "markdown",
   "metadata": {},
   "source": [
    "### Расчет матрицы корреспонденций на прогнозируемый год"
   ]
  },
  {
   "cell_type": "code",
   "execution_count": 3,
   "metadata": {},
   "outputs": [],
   "source": [
    "trs = dp.get_dataset(dataset_name='trs',\n",
    "                     version_name='base')\n",
    "\n",
    "\n",
    "# dm = dp.get_dataset(dataset_name='dist_matrix',\n",
    "#                 version_name='base')\n",
    "\n",
    "\n",
    "rail_fbm = dp.get_dataset(dataset_name='flow_base_matrix',\n",
    "                          version_name='base',\n",
    "                          transport_type='rail')\n",
    "avia_fbm = dp.get_dataset(dataset_name='flow_base_matrix',\n",
    "                          version_name='base',\n",
    "                          transport_type='avia')\n",
    "\n",
    "elasticities = dp.get_dataset(dataset_name='elasticities')\n",
    "\n",
    "base_year = 2019\n",
    "forecast_year = 2025"
   ]
  },
  {
   "cell_type": "markdown",
   "metadata": {},
   "source": [
    "#### Прогнозные потенциалы"
   ]
  },
  {
   "cell_type": "code",
   "execution_count": 4,
   "metadata": {},
   "outputs": [
    {
     "name": "stdout",
     "output_type": "stream",
     "text": [
      "132083927.62578937 132083927.62578937\n"
     ]
    }
   ],
   "source": [
    "# rail_forecast_potentails_calc\n",
    "rfpc = RegForecastPotentialsCalc(trs=trs,\n",
    "                                  base_matrix=rail_fbm,\n",
    "                                  base_year=base_year,\n",
    "                                  forecast_year=forecast_year,\n",
    "                                  tr_type='rail',\n",
    "                                  elasticities=elasticities)\n",
    "\n",
    "rfpc.calc_forecast_potentials()\n",
    "\n",
    "print(rfpc.forecast_attractions.sum(),\n",
    "      rfpc.forecast_generations.sum())"
   ]
  },
  {
   "cell_type": "code",
   "execution_count": 5,
   "metadata": {},
   "outputs": [
    {
     "name": "stdout",
     "output_type": "stream",
     "text": [
      "200364302.12238008 200364302.12238008\n"
     ]
    }
   ],
   "source": [
    "# avia_forecast_potentails_calc\n",
    "afpc = RegForecastPotentialsCalc(trs=trs,\n",
    "                                  base_matrix=avia_fbm,\n",
    "                                  base_year=base_year,\n",
    "                                  forecast_year=forecast_year,\n",
    "                                  tr_type='avia',\n",
    "                                  elasticities=elasticities)\n",
    "\n",
    "afpc.calc_forecast_potentials()\n",
    "\n",
    "print(afpc.forecast_attractions.sum(),\n",
    "      afpc.forecast_generations.sum())"
   ]
  },
  {
   "cell_type": "markdown",
   "metadata": {},
   "source": [
    "#### Прогнозные матрицы"
   ]
  },
  {
   "cell_type": "code",
   "execution_count": 14,
   "metadata": {},
   "outputs": [
    {
     "name": "stdout",
     "output_type": "stream",
     "text": [
      "Стартовое среднее квадратичное отклонение по строкам: 32485676477029.188\n",
      "Стартовое среднее квадратичное отклонение по столбцам: 32169927044167.266\n"
     ]
    },
    {
     "name": "stderr",
     "output_type": "stream",
     "text": [
      "C:\\Users\\user\\rounet_lokotech\\calculators\\matrix_balance_calculator.py:84: RuntimeWarning: invalid value encountered in true_divide\n",
      "  f = np.divide(targets, marginals)\n"
     ]
    },
    {
     "name": "stdout",
     "output_type": "stream",
     "text": [
      "Итоговое среднее квадратичная отклонение по строкам: 0.0004023294754057974\n",
      "Итоговое среднее квадратичная отклонение по столбцам: 1.2982358198477407e-15\n"
     ]
    }
   ],
   "source": [
    "# ЖД\n",
    "\n",
    "rail_forecast_attractions = rfpc.forecast_attractions\n",
    "rail_forecast_generations = rfpc.forecast_generations\n",
    "\n",
    "# rail_forecast_matrix_calculator\n",
    "rfmc = Fratar(target_vector_row=rail_forecast_attractions,\n",
    "              target_vector_col=rail_forecast_generations,\n",
    "              matrix=rail_fbm)\n",
    "rfmc.fit()\n",
    "rail_forecast_matrix = rfmc.matrix"
   ]
  },
  {
   "cell_type": "code",
   "execution_count": 15,
   "metadata": {},
   "outputs": [
    {
     "name": "stdout",
     "output_type": "stream",
     "text": [
      "Стартовое среднее квадратичное отклонение по строкам: 453787817401719.6\n",
      "Стартовое среднее квадратичное отклонение по столбцам: 470260100098326.25\n"
     ]
    },
    {
     "name": "stderr",
     "output_type": "stream",
     "text": [
      "C:\\Users\\user\\rounet_lokotech\\calculators\\matrix_balance_calculator.py:84: RuntimeWarning: divide by zero encountered in true_divide\n",
      "  f = np.divide(targets, marginals)\n"
     ]
    },
    {
     "name": "stdout",
     "output_type": "stream",
     "text": [
      "Итоговое среднее квадратичная отклонение по строкам: 1747089.5561713078\n",
      "Итоговое среднее квадратичная отклонение по столбцам: 41.27483756899861\n"
     ]
    }
   ],
   "source": [
    "# АВИА\n",
    "\n",
    "avia_forecast_attractions = afpc.forecast_attractions\n",
    "avia_forecast_generations = afpc.forecast_generations\n",
    "\n",
    "# avia_forecast_matrix_calculator\n",
    "afmc = Fratar(target_vector_row=avia_forecast_attractions,\n",
    "              target_vector_col=avia_forecast_generations,\n",
    "              matrix=avia_fbm)\n",
    "afmc.fit()\n",
    "avia_forecast_matrix = afmc.matrix"
   ]
  }
 ],
 "metadata": {
  "kernelspec": {
   "display_name": "Python 3",
   "language": "python",
   "name": "python3"
  },
  "language_info": {
   "codemirror_mode": {
    "name": "ipython",
    "version": 3
   },
   "file_extension": ".py",
   "mimetype": "text/x-python",
   "name": "python",
   "nbconvert_exporter": "python",
   "pygments_lexer": "ipython3",
   "version": "3.7.6"
  }
 },
 "nbformat": 4,
 "nbformat_minor": 4
}
