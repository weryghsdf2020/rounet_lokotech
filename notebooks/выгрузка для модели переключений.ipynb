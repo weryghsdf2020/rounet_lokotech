{
 "cells": [
  {
   "cell_type": "code",
   "execution_count": null,
   "metadata": {},
   "outputs": [],
   "source": [
    "import os, sys\n",
    "sys.path.append(os.path.abspath(\"../\"))\n",
    "\n",
    "from math import ceil\n",
    "import pandas as pd\n",
    "from shapely.wkt import loads as gload\n",
    "from shapely.geometry import Point, LineString, Polygon, mapping\n",
    "import networkx as nx\n",
    "import tqdm\n",
    "\n",
    "%load_ext autoreload\n",
    "%autoreload 2\n",
    "from config import defaults\n",
    "from workplaces.workplace import WorkPlace\n",
    "from converters.converter_for_mongo import convert_mos_list_to_df\n",
    "from converters.converter_for_mongo import convert_flowsforecast_to_df\n",
    "from calculators.forecast_calculator import Forecast\n",
    "from calculators.TR_calculator import TR_calculator\n",
    "\n",
    "from utils import first_or_none"
   ]
  },
  {
   "cell_type": "code",
   "execution_count": null,
   "metadata": {},
   "outputs": [],
   "source": [
    "# Рабочая область\n",
    "wp = WorkPlace(name='rounet_loko',\n",
    "               config=defaults['db_configs']['mongo'])\n",
    "# БД\n",
    "db = wp.db.db"
   ]
  },
  {
   "cell_type": "code",
   "execution_count": null,
   "metadata": {},
   "outputs": [],
   "source": [
    "# Создание ТР из Мо\n",
    "municipalities_df = convert_mos_list_to_df([x for x in db['mun_soc'].find()])\n",
    "tr_calc = TR_calculator(municipalities_df)"
   ]
  },
  {
   "cell_type": "code",
   "execution_count": null,
   "metadata": {},
   "outputs": [],
   "source": [
    "def binding_plo_tr(point: Point, trs_dict: dict):\n",
    "    # id для  ТР != РФ\n",
    "    tr = 999999\n",
    "    for tr_id, tr_info in trs_dict.items():\n",
    "        if tr_info['geometry'].intersects(point):\n",
    "            tr = tr_id\n",
    "    return tr\n",
    "\n",
    "# Уникальный список остановок из потоков\n",
    "flows_df = convert_flowsforecast_to_df([x for x in db['flows'].find()])\n",
    "\n",
    "plos_from_flows = pd.unique(flows_df[['plo_source',\n",
    "                                    'plo_target']].values.ravel('K'))\n",
    "\n",
    "plos_express_info = [x for x in db['plos_express_info'].find()]\n",
    "plos_express_info_dict = {x['express_code']: {'geometry':\n",
    "                                              gload(x['geometry_wkt']),\n",
    "                                              'tr': binding_plo_tr(gload(x['geometry_wkt']),\n",
    "                                                                   tr_calc.trs)}\n",
    "                         for x in plos_express_info\n",
    "                         }"
   ]
  },
  {
   "cell_type": "code",
   "execution_count": null,
   "metadata": {},
   "outputs": [],
   "source": [
    "# Расчитанные на месяц составности\n",
    "calc_cars = [x for x in db['calc_cars'].find()]\n",
    "\n",
    "calc_cars_dict = {}\n",
    "\n",
    "for nit_car_info in calc_cars:\n",
    "    nit_id = first_or_none(list(nit_car_info.keys()),\n",
    "                lambda x: x!='_id')\n",
    "    info = nit_car_info[nit_id]\n",
    "    calc_cars_dict[int(nit_id)] = info"
   ]
  },
  {
   "cell_type": "code",
   "execution_count": null,
   "metadata": {},
   "outputs": [],
   "source": [
    "# Граф экспресс\n",
    "EG = nx.MultiGraph()\n",
    "\n",
    "for edge_info in db['expressg'].find():\n",
    "    edge_id = first_or_none(list(edge_info.keys()),\n",
    "            lambda x: x!='_id')\n",
    "    edge = edge_info[edge_id]\n",
    "    \n",
    "    EG.add_edge(edge[0],edge[1],length=edge[2]['length'])"
   ]
  },
  {
   "cell_type": "code",
   "execution_count": null,
   "metadata": {},
   "outputs": [],
   "source": [
    "# Предрасчитанное время следования в минутах\n",
    "timatables_base_list = [x for x in db['timatables_base'].find()]\n",
    "\n",
    "timatables_base_dict = {}\n",
    "\n",
    "for tt_b in timatables_base_list:\n",
    "    nit_id = first_or_none(list(tt_b.keys()),\n",
    "                lambda x: x!='_id')\n",
    "    tt_info = tt_b[nit_id]\n",
    "    timatables_base_dict[nit_id] = {\n",
    "        'express_path':tt_info['express_path'],\n",
    "        'full_minutes_list':tt_info['full_minutes_list']\n",
    "    }"
   ]
  },
  {
   "cell_type": "code",
   "execution_count": null,
   "metadata": {},
   "outputs": [],
   "source": [
    "# Предрасчитанные расстояния plo-plo\n",
    "calc_dist_df = pd.DataFrame([x for x in db['eg_calc_flows_plo_plo'].find()])\n",
    "\n",
    "calc_dist_df['plo_source'] = [str(int(x.InitPassStationExpress)) for x in calc_dist_df.itertuples()]\n",
    "calc_dist_df['plo_target'] = [str(int(x.FinPassStationExpress)) for x in calc_dist_df.itertuples()]\n",
    "\n",
    "eg_dict = {x.plo_source + ' ' + x.plo_target: x.eg_dist for x in calc_dist_df.itertuples()}"
   ]
  },
  {
   "cell_type": "code",
   "execution_count": null,
   "metadata": {},
   "outputs": [],
   "source": []
  },
  {
   "cell_type": "code",
   "execution_count": null,
   "metadata": {},
   "outputs": [],
   "source": [
    "uniq_corrs_month = pd.DataFrame([x for x in db['flows_month_format'].find()])"
   ]
  },
  {
   "cell_type": "code",
   "execution_count": null,
   "metadata": {},
   "outputs": [],
   "source": [
    "uniq_corrs_month['init_is_info'] = [1 if x.InitPassStationExpress in plos_express_info_dict.keys() else 0\n",
    "                             for x in uniq_corrs_month.itertuples()]\n",
    "\n",
    "uniq_corrs_month['fin_is_info'] = [1 if x.FinPassStationExpress in plos_express_info_dict.keys() else 0\n",
    "                             for x in uniq_corrs_month.itertuples()]"
   ]
  },
  {
   "cell_type": "code",
   "execution_count": null,
   "metadata": {},
   "outputs": [],
   "source": [
    "report = uniq_corrs_month[uniq_corrs_month['init_is_info']==1]\n",
    "report = report[report['fin_is_info']==1]\n",
    "report.columns"
   ]
  },
  {
   "cell_type": "code",
   "execution_count": null,
   "metadata": {},
   "outputs": [],
   "source": [
    "report['tr_source'] = [plos_express_info_dict[x.InitPassStationExpress]['tr'] \n",
    "                       for x in report.itertuples()]\n",
    "report['tr_target'] = [plos_express_info_dict[x.FinPassStationExpress]['tr'] \n",
    "                       for x in report.itertuples()]"
   ]
  },
  {
   "cell_type": "code",
   "execution_count": null,
   "metadata": {},
   "outputs": [],
   "source": [
    "report['tr_source_name'] = [tr_calc.trs[x.tr_source]['tr_name']\n",
    "                                         if x.tr_source in tr_calc.trs.keys()\n",
    "                                         else 'Мир'\n",
    "                                     for x in report.itertuples()]\n",
    "report['tr_target_name'] = [tr_calc.trs[x.tr_target]['tr_name']\n",
    "                                         if x.tr_target in tr_calc.trs.keys()\n",
    "                                         else 'Мир'\n",
    "                                     for x in report.itertuples()]"
   ]
  },
  {
   "cell_type": "code",
   "execution_count": null,
   "metadata": {},
   "outputs": [],
   "source": [
    "base_year = 2019\n",
    "forecast_year = 2035\n",
    "report['base_year'] = [base_year for x in report.itertuples()]\n",
    "report['forecast_year'] = [forecast_year for x in report.itertuples()]"
   ]
  },
  {
   "cell_type": "code",
   "execution_count": null,
   "metadata": {},
   "outputs": [],
   "source": [
    "report['base_year_pop_tr_source'] = [tr_calc.trs[x.tr_source]['POP'][base_year]\n",
    "                                         if x.tr_source in tr_calc.trs.keys()\n",
    "                                         else 1\n",
    "                                     for x in report.itertuples()]\n",
    "\n",
    "report['base_year_income_tr_source'] = [tr_calc.trs[x.tr_source]['INCOME'][base_year]\n",
    "                                         if x.tr_source in tr_calc.trs.keys()\n",
    "                                         else 1\n",
    "                                     for x in report.itertuples()]\n",
    "\n",
    "report['forecast_year_pop_tr_source'] = [tr_calc.trs[x.tr_source]['POP'][forecast_year]\n",
    "                                         if x.tr_source in tr_calc.trs.keys()\n",
    "                                         else 1\n",
    "                                     for x in report.itertuples()]\n",
    "\n",
    "report['forecast_year_income_tr_source'] = [tr_calc.trs[x.tr_source]['INCOME'][forecast_year]\n",
    "                                         if x.tr_source in tr_calc.trs.keys()\n",
    "                                         else 1\n",
    "                                     for x in report.itertuples()]\n",
    "###\n",
    "\n",
    "report['base_year_pop_tr_target'] = [tr_calc.trs[x.tr_target]['POP'][base_year]\n",
    "                                         if x.tr_target in tr_calc.trs.keys()\n",
    "                                         else 1\n",
    "                                     for x in report.itertuples()]\n",
    "\n",
    "report['base_year_income_tr_target'] = [tr_calc.trs[x.tr_target]['INCOME'][base_year]\n",
    "                                         if x.tr_target in tr_calc.trs.keys()\n",
    "                                         else 1\n",
    "                                     for x in report.itertuples()]\n",
    "\n",
    "report['forecast_year_pop_tr_target'] = [tr_calc.trs[x.tr_target]['POP'][forecast_year]\n",
    "                                         if x.tr_target in tr_calc.trs.keys()\n",
    "                                         else 1\n",
    "                                     for x in report.itertuples()]\n",
    "\n",
    "report['forecast_year_income_tr_target'] = [tr_calc.trs[x.tr_target]['INCOME'][forecast_year]\n",
    "                                         if x.tr_target in tr_calc.trs.keys()\n",
    "                                         else 1\n",
    "                                     for x in report.itertuples()]"
   ]
  },
  {
   "cell_type": "code",
   "execution_count": null,
   "metadata": {},
   "outputs": [],
   "source": [
    "def get_cars_count(calc_cars_dict, nit_id, month, car_type):\n",
    "    try:\n",
    "        res = calc_cars_dict[nit_id][str(month)][car_type]\n",
    "    except:\n",
    "        try:\n",
    "            counter = 0\n",
    "\n",
    "            for m, m_info in calc_cars_dict[nit_id].items():\n",
    "\n",
    "                counter+=m_info[car_type]\n",
    "            res = ceil(counter/len(list(calc_cars_dict[nit_id])))\n",
    "            \n",
    "        except:\n",
    "#             print('00')\n",
    "            res = 0\n",
    "    return res\n",
    "        "
   ]
  },
  {
   "cell_type": "code",
   "execution_count": null,
   "metadata": {},
   "outputs": [],
   "source": [
    "report['coupe_count'] = [get_cars_count(calc_cars_dict,\n",
    "                                       x.possible_nits_id,\n",
    "                                       str(x.Month),\n",
    "                                       'К')\n",
    "                        for x in report.itertuples()]\n",
    "report['luxe_count'] = [get_cars_count(calc_cars_dict,\n",
    "                                       x.possible_nits_id,\n",
    "                                       str(x.Month),\n",
    "                                       'Л')\n",
    "                        for x in report.itertuples()]\n",
    "report['luxe_soft_count'] = [get_cars_count(calc_cars_dict,\n",
    "                                       x.possible_nits_id,\n",
    "                                       str(x.Month),\n",
    "                                       'М')\n",
    "                        for x in report.itertuples()]\n",
    "report['common_count'] = [get_cars_count(calc_cars_dict,\n",
    "                                       x.possible_nits_id,\n",
    "                                       str(x.Month),\n",
    "                                       'О')\n",
    "                        for x in report.itertuples()]\n",
    "report['econom_count'] = [get_cars_count(calc_cars_dict,\n",
    "                                       x.possible_nits_id,\n",
    "                                       str(x.Month),\n",
    "                                       'П')\n",
    "                        for x in report.itertuples()]\n",
    "report['seat_count'] = [get_cars_count(calc_cars_dict,\n",
    "                                       x.possible_nits_id,\n",
    "                                       str(x.Month),\n",
    "                                       'С')\n",
    "                        for x in report.itertuples()]"
   ]
  },
  {
   "cell_type": "code",
   "execution_count": null,
   "metadata": {},
   "outputs": [],
   "source": [
    "\n",
    "\n",
    "report['eg_dist'] = [eg_dict[str(int(x.InitPassStationExpress)) + ' ' + str(int(x.FinPassStationExpress))]\n",
    "                        if str(int(x.InitPassStationExpress)) + ' ' + str(int(x.FinPassStationExpress)) in eg_dict.keys()\n",
    "                        else 0\n",
    "                    for x in report.itertuples()]"
   ]
  },
  {
   "cell_type": "code",
   "execution_count": null,
   "metadata": {},
   "outputs": [],
   "source": [
    "rec_rep = report[report['eg_dist']>0]\n",
    "\n",
    "rec_rep.flows_coupe.sum()+rec_rep.flows_luxe.sum()+rec_rep.flows_luxe_soft.sum()\\\n",
    "+rec_rep.flows_common.sum()+rec_rep.flows_econom.sum()+rec_rep.flows_seat.sum()"
   ]
  },
  {
   "cell_type": "code",
   "execution_count": null,
   "metadata": {},
   "outputs": [],
   "source": [
    "tt_report_data = report[['possible_nits_id','InitPassStationExpress','FinPassStationExpress','eg_dist']].drop_duplicates()\n",
    "\n",
    "times_list = []\n",
    "err_count = 0\n",
    "for x in  tt_report_data.itertuples():\n",
    "    if str(x.possible_nits_id) in timatables_base_dict.keys():\n",
    "        route_info = timatables_base_dict[str(x.possible_nits_id)]\n",
    "        plo_source = str(int(x.InitPassStationExpress))\n",
    "        plo_target = str(int(x.FinPassStationExpress))\n",
    "        dist = x.eg_dist\n",
    "        \n",
    "        try:\n",
    "            plo_source_index = route_info['express_path'].index(plo_source)\n",
    "            plo_target_index = route_info['express_path'].index(plo_target)\n",
    "            res = route_info['full_minutes_list'][plo_target_index] - route_info['full_minutes_list'][plo_source_index]\n",
    "        except:\n",
    "            res = 0\n",
    "    else:\n",
    "        res = 0\n",
    "    times_list.append(res)\n",
    "    \n",
    "tt_report_data['time_minute'] = times_list\n",
    "\n",
    "tt_report_dict = {\n",
    "    str(x.possible_nits_id) + ' ' + str(x.InitPassStationExpress) +' '+ str(x.FinPassStationExpress):\n",
    "    x.time_minute\n",
    "    for x in tt_report_data.itertuples()\n",
    "}"
   ]
  },
  {
   "cell_type": "code",
   "execution_count": null,
   "metadata": {},
   "outputs": [],
   "source": [
    "report['time_from_tt_base'] = [tt_report_dict[str(x.possible_nits_id)\\\n",
    "                                              + ' ' + str(x.InitPassStationExpress)\\\n",
    "                                              +' '+ str(x.FinPassStationExpress)]\n",
    "                              for x in report.itertuples()\n",
    "                              \n",
    "                              ]"
   ]
  },
  {
   "cell_type": "code",
   "execution_count": null,
   "metadata": {},
   "outputs": [],
   "source": [
    "rec_rep = report[report['time_from_tt_base']>0]\n",
    "\n",
    "rec_rep.flows_coupe.sum()+rec_rep.flows_luxe.sum()+rec_rep.flows_luxe_soft.sum()\\\n",
    "+rec_rep.flows_common.sum()+rec_rep.flows_econom.sum()+rec_rep.flows_seat.sum()"
   ]
  },
  {
   "cell_type": "code",
   "execution_count": null,
   "metadata": {},
   "outputs": [],
   "source": [
    "rec_rep['speed'] = [x.eg_dist/(x.time_from_tt_base/60) for x in rec_rep.itertuples()]"
   ]
  },
  {
   "cell_type": "code",
   "execution_count": null,
   "metadata": {},
   "outputs": [],
   "source": [
    "rec_rep = rec_rep[rec_rep['speed']>10]"
   ]
  },
  {
   "cell_type": "code",
   "execution_count": null,
   "metadata": {},
   "outputs": [],
   "source": [
    "len(rec_rep)"
   ]
  },
  {
   "cell_type": "code",
   "execution_count": null,
   "metadata": {},
   "outputs": [],
   "source": [
    "rec_rep.columns"
   ]
  },
  {
   "cell_type": "code",
   "execution_count": null,
   "metadata": {},
   "outputs": [],
   "source": [
    "uniq_source_target_corrs = rec_rep[['tr_source','tr_target','Month']].drop_duplicates()\n",
    "uniq_source_target_corrs['corrs_id'] = [i for i in range(len(uniq_source_target_corrs))]\n",
    "uniq_source_target_corrs_dict = {str(x.tr_source)+' '+ str(x.tr_target) + ' ' + str(x.Month): x.corrs_id\n",
    "                                for x in uniq_source_target_corrs.itertuples()\n",
    "                                }\n"
   ]
  },
  {
   "cell_type": "code",
   "execution_count": null,
   "metadata": {},
   "outputs": [],
   "source": [
    "rec_rep['corrs_id'] = [uniq_source_target_corrs_dict[str(x.tr_source)+' '+ str(x.tr_target) + ' ' + str(x.Month)]\n",
    "                      for x in rec_rep.itertuples()]"
   ]
  },
  {
   "cell_type": "code",
   "execution_count": null,
   "metadata": {},
   "outputs": [],
   "source": [
    "rec_rep['revenue_coupe'] = rec_rep['prices_coupe'].values\n",
    "rec_rep['revenue_luxe'] = rec_rep['prices_luxe'].values\n",
    "rec_rep['revenue_luxe_soft'] = rec_rep['prices_luxe_soft'].values\n",
    "rec_rep['revenue_common'] = rec_rep['prices_common'].values\n",
    "rec_rep['revenue_econom'] = rec_rep['prices_econom'].values\n",
    "rec_rep['revenue_seat'] = rec_rep['prices_seat'].values"
   ]
  },
  {
   "cell_type": "code",
   "execution_count": null,
   "metadata": {},
   "outputs": [],
   "source": [
    "rec_rep['plo_source_name'] = rec_rep['InitPassStationName'].values\n",
    "rec_rep['plo_target_name'] = rec_rep['FinPassStationName'].values\n",
    "rec_rep['month'] = rec_rep['Month'].values\n",
    "rec_rep['dist'] = rec_rep['eg_dist'].values\n",
    "rec_rep['time_per_minute'] = rec_rep['time_from_tt_base'].values\n",
    "rec_rep['route_speed'] = rec_rep['speed'].values\n",
    "\n",
    "rec_rep['forecast_year_income_tr_source'] = rec_rep['forecast_year_pop_income_source'].values"
   ]
  },
  {
   "cell_type": "code",
   "execution_count": null,
   "metadata": {},
   "outputs": [],
   "source": [
    "report_res = rec_rep[[\n",
    "    'corrs_id',\n",
    "    'tr_source_name',\n",
    "    'tr_target_name',\n",
    "    'month',\n",
    "    'plo_source_name',\n",
    "    'plo_target_name',\n",
    "    'dist',\n",
    "    'time_per_minute',\n",
    "    'route_speed',\n",
    "    'flows_coupe',\n",
    "    'flows_luxe',\n",
    "    'flows_luxe_soft',\n",
    "    'flows_common',\n",
    "    'flows_econom',\n",
    "    'flows_seat',\n",
    "    'coupe_count',\n",
    "    'luxe_count',\n",
    "    'luxe_soft_count',\n",
    "    'common_count',\n",
    "    'econom_count',\n",
    "    'seat_count',\n",
    "    'revenue_coupe',\n",
    "    'revenue_luxe',\n",
    "    'revenue_luxe_soft',\n",
    "    'revenue_common',\n",
    "    'revenue_econom',\n",
    "    'revenue_seat',\n",
    "    'base_year',\n",
    "    'forecast_year',\n",
    "    'base_year_pop_tr_source',\n",
    "    'base_year_income_tr_source',\n",
    "    'forecast_year_pop_tr_source',\n",
    "    'forecast_year_income_tr_source',\n",
    "    'base_year_pop_tr_target',\n",
    "    'base_year_income_tr_target',\n",
    "    'forecast_year_pop_tr_target',\n",
    "    'forecast_year_income_tr_target'\n",
    "    \n",
    "    \n",
    "]]"
   ]
  },
  {
   "cell_type": "code",
   "execution_count": null,
   "metadata": {},
   "outputs": [],
   "source": [
    "report_res.to_csv('data_switch_model.csv')"
   ]
  },
  {
   "cell_type": "code",
   "execution_count": null,
   "metadata": {},
   "outputs": [],
   "source": []
  }
 ],
 "metadata": {
  "kernelspec": {
   "display_name": "Python 3",
   "language": "python",
   "name": "python3"
  },
  "language_info": {
   "codemirror_mode": {
    "name": "ipython",
    "version": 3
   },
   "file_extension": ".py",
   "mimetype": "text/x-python",
   "name": "python",
   "nbconvert_exporter": "python",
   "pygments_lexer": "ipython3",
   "version": "3.7.6"
  }
 },
 "nbformat": 4,
 "nbformat_minor": 4
}
