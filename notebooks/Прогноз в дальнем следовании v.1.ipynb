{
 "cells": [
  {
   "cell_type": "code",
   "execution_count": null,
   "metadata": {},
   "outputs": [],
   "source": [
    "import os, sys\n",
    "sys.path.append(os.path.abspath(\"../\"))\n",
    "\n",
    "import pandas as pd\n",
    "import numpy as np\n",
    "\n",
    "%load_ext autoreload\n",
    "%autoreload 2\n",
    "from config import defaults\n",
    "from workplaces.workplace import WorkPlace\n",
    "\n",
    "from calculators.reg_tr_calculator import TR_calculator as RegTrCalc\n",
    "from calculators.reg_base_flow_matrix_calculator import RegBaseFlowCalc\n",
    "from calculators.reg_dm_calculator import RegDMCalc\n"
   ]
  },
  {
   "cell_type": "code",
   "execution_count": null,
   "metadata": {},
   "outputs": [],
   "source": [
    "# Рабочая область\n",
    "wp = WorkPlace(name='rounet_loko',\n",
    "               config=defaults,\n",
    "               db_type='mongo')\n",
    "# Дата провайдер\n",
    "dp = wp.data_provider\n",
    "\n",
    "# wp.db.drop_table('test')"
   ]
  },
  {
   "cell_type": "markdown",
   "metadata": {},
   "source": [
    "### Генерация и сохранение ТР"
   ]
  },
  {
   "cell_type": "code",
   "execution_count": null,
   "metadata": {},
   "outputs": [],
   "source": [
    "# municipalities_df = dp.get_dataset(dataset_name='mun_soc')\n",
    "\n",
    "# tr_calc = RegTrCalc(municipalities_df)\n",
    "# tr_calc.generate_tr()\n",
    "\n",
    "# dp.save_dataset(dataset=tr_calc.trs,\n",
    "#                 collection_name='trs',\n",
    "#                 version_name='base')\n",
    "\n",
    "# trs = dp.get_dataset(dataset_name='trs',\n",
    "#                      version_name='base')"
   ]
  },
  {
   "cell_type": "markdown",
   "metadata": {
    "scrolled": true
   },
   "source": [
    "### Генерация базовой матрицы потоков"
   ]
  },
  {
   "cell_type": "code",
   "execution_count": null,
   "metadata": {},
   "outputs": [],
   "source": [
    "trs = dp.get_dataset(dataset_name='trs',\n",
    "                     version_name='base')\n",
    "flows_base = dp.get_dataset(dataset_name='flows')\n",
    "plos_express_info = dp.get_dataset(dataset_name='plos_express_info')\n",
    "\n",
    "regbf_calc = RegBaseFlowCalc(trs=trs,\n",
    "                             flows_base=flows_base,\n",
    "                             plos_express_info=plos_express_info)\n",
    "regbf_calc.generate_base_matrix()\n",
    "\n",
    "dp.save_dataset(dataset=regbf_calc.save_dict,\n",
    "                collection_name='flow_base_matrix',\n",
    "                version_name='base')\n",
    "\n",
    "fbm = dp.get_dataset(dataset_name='flow_base_matrix',\n",
    "                version_name='base')"
   ]
  },
  {
   "cell_type": "markdown",
   "metadata": {},
   "source": [
    "### Генерация матрицы расстояний"
   ]
  },
  {
   "cell_type": "code",
   "execution_count": null,
   "metadata": {},
   "outputs": [],
   "source": [
    "# trs = dp.get_dataset(dataset_name='trs',\n",
    "#                      version_name='base')\n",
    "\n",
    "# reg_dm_calc = RegDMCalc(trs=trs,\n",
    "#                         calc_type='by_ort')\n",
    "# reg_dm_calc.generate_dm()\n",
    "\n",
    "# dp.save_dataset(dataset=reg_dm_calc.save_dict,\n",
    "#                 collection_name='dist_matrix',\n",
    "#                 version_name='base')\n",
    "\n",
    "# dm = dp.get_dataset(dataset_name='dist_matrix',\n",
    "#                 version_name='base')"
   ]
  },
  {
   "cell_type": "markdown",
   "metadata": {},
   "source": [
    "### Расчет матрицы корреспонденций на прогнозируемый год"
   ]
  },
  {
   "cell_type": "code",
   "execution_count": null,
   "metadata": {},
   "outputs": [],
   "source": [
    "trs = dp.get_dataset(dataset_name='trs',\n",
    "                     version_name='base')\n",
    "\n",
    "fbm = dp.get_dataset(dataset_name='flow_base_matrix',\n",
    "                version_name='base')\n",
    "\n",
    "dm = dp.get_dataset(dataset_name='dist_matrix',\n",
    "                version_name='base')"
   ]
  },
  {
   "cell_type": "code",
   "execution_count": null,
   "metadata": {},
   "outputs": [],
   "source": [
    "fbm.sum()"
   ]
  },
  {
   "cell_type": "markdown",
   "metadata": {},
   "source": [
    "#### Определение потенциалов фомирования и притяжения в базисном году"
   ]
  },
  {
   "cell_type": "code",
   "execution_count": null,
   "metadata": {},
   "outputs": [],
   "source": [
    "base_attractions = (np.sum(fbm, axis = 1) + np.sum(fbm, axis = 0))/2\n",
    "base_generations = attractions"
   ]
  },
  {
   "cell_type": "markdown",
   "metadata": {},
   "source": [
    "#### Определение потенциалов формирования и притяжения в прогнозном году"
   ]
  },
  {
   "cell_type": "code",
   "execution_count": null,
   "metadata": {},
   "outputs": [],
   "source": [
    "def get_indicies(trs, soc_type, base_year,forecast_year, default_val=0.001):\n",
    "    contain = []\n",
    "    for key, val in trs.items():\n",
    "        base_val = val[soc_type][str(base_year)]\n",
    "        forecast_val = val[soc_type][str(forecast_year)]\n",
    "        \n",
    "        if not base_val:\n",
    "            base_val = default_val\n",
    "        if not forecast_val:\n",
    "            forecast_val = default_val\n",
    "        index = forecast_val/base_val\n",
    "        contain.append(index)\n",
    "    # Дли иностранного ТР\n",
    "    contain.append(np.mean(np.array(contain)))   \n",
    "    res = np.array(contain)\n",
    "    return res\n",
    "\n",
    "def calc_generation_indicies(pop_indicies, grp_indicies, employ_indicies, egg):\n",
    "    gt = np.array([pop_indicies[i]*\n",
    "          (1+egg[i]*(grp_indicies[i]-1))\n",
    "          for i in range(len(pop_indicies))])\n",
    "    gb = np.array([employ_indicies[i]*\n",
    "          (1+egg[i]*(grp_indicies[i]-1))\n",
    "          for i in range(len(pop_indicies))])\n",
    "    go = np.array([pop_indicies[i]*\n",
    "          (1+egg[i]*(grp_indicies[i]-1))\n",
    "          for i in range(len(pop_indicies))])\n",
    "    \n",
    "    res = (gt + gb + go)/3\n",
    "    return res\n",
    "\n",
    "def calc_attraction_indicies(pop_indicies, grp_indicies, employ_indicies, bed_indicies, ega):\n",
    "    at = np.array([bed_indicies[i]*\n",
    "          (1+ega[i]*(grp_indicies[i]-1))\n",
    "          for i in range(len(pop_indicies))])\n",
    "    ab = np.array([employ_indicies[i]*\n",
    "          (1+ega[i]*(grp_indicies[i]-1))\n",
    "          for i in range(len(pop_indicies))])\n",
    "    ao = np.array([pop_indicies[i]*\n",
    "          (1+ega[i]*(grp_indicies[i]-1))\n",
    "          for i in range(len(pop_indicies))])\n",
    "    \n",
    "    res = (at + ab + ao)/3\n",
    "    return res"
   ]
  },
  {
   "cell_type": "code",
   "execution_count": null,
   "metadata": {},
   "outputs": [],
   "source": [
    "base_attractions = (np.sum(fbm, axis = 1) + np.sum(fbm, axis = 0))/2\n",
    "base_generations = attractions\n",
    "\n",
    "base_year = 2019\n",
    "forecast_year = 2035\n",
    "\n",
    "default_el_grp_val = 0.3\n",
    "\n",
    "pop_indicies = get_indicies(trs, 'POP', base_year,forecast_year)\n",
    "employ_indicies = get_indicies(trs, 'EMPLOY', base_year,forecast_year)\n",
    "grp_indicies = get_indicies(trs, 'GRP', base_year,forecast_year)\n",
    "bed_indicies = get_indicies(trs, 'BED', base_year,forecast_year)\n",
    "\n",
    "\n",
    "# elasticities_grp_attraction\n",
    "ega = np.array([default_el_grp_val for i in range(len(fbm))])\n",
    "# elasticities_grp_generation\n",
    "egg = np.array([default_el_grp_val for i in range(len(fbm))])\n",
    "\n",
    "generation_indicies = calc_generation_indicies(pop_indicies, grp_indicies, employ_indicies, egg)\n",
    "attraction_indicies = calc_attraction_indicies(pop_indicies, grp_indicies, employ_indicies, bed_indicies, ega)\n",
    "\n",
    "forecast_generations = base_generations*generation_indicies\n",
    "forecast_attractions = base_attractions*attraction_indicies\n",
    "\n",
    "(sum(forecast_generations)+sum(forecast_attractions))/(2*sum(base_attractions))"
   ]
  }
 ],
 "metadata": {
  "kernelspec": {
   "display_name": "Python 3",
   "language": "python",
   "name": "python3"
  },
  "language_info": {
   "codemirror_mode": {
    "name": "ipython",
    "version": 3
   },
   "file_extension": ".py",
   "mimetype": "text/x-python",
   "name": "python",
   "nbconvert_exporter": "python",
   "pygments_lexer": "ipython3",
   "version": "3.7.6"
  }
 },
 "nbformat": 4,
 "nbformat_minor": 4
}
