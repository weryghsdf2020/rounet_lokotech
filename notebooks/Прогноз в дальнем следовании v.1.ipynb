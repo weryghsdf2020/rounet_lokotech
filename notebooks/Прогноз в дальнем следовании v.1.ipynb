{
 "cells": [
  {
   "cell_type": "code",
   "execution_count": 1,
   "metadata": {},
   "outputs": [],
   "source": [
    "import os, sys\n",
    "sys.path.append(os.path.abspath(\"../\"))\n",
    "\n",
    "import pandas as pd\n",
    "import numpy as np\n",
    "\n",
    "%load_ext autoreload\n",
    "%autoreload 2\n",
    "from config import defaults\n",
    "from workplaces.workplace import WorkPlace\n",
    "\n",
    "from calculators.reg_tr_calculator import TR_calculator as RegTrCalc\n",
    "from calculators.reg_base_flow_matrix_calculator import RegBaseFlowCalc\n",
    "\n"
   ]
  },
  {
   "cell_type": "code",
   "execution_count": 2,
   "metadata": {},
   "outputs": [],
   "source": [
    "# Рабочая область\n",
    "wp = WorkPlace(name='rounet_loko',\n",
    "               config=defaults,\n",
    "               db_type='mongo')\n",
    "# Дата провайдер\n",
    "dp = wp.data_provider\n",
    "\n",
    "# wp.db.drop_table('test')"
   ]
  },
  {
   "cell_type": "markdown",
   "metadata": {},
   "source": [
    "### Генерация и сохранение ТР"
   ]
  },
  {
   "cell_type": "code",
   "execution_count": null,
   "metadata": {},
   "outputs": [],
   "source": [
    "# municipalities_df = dp.get_dataset(dataset_name='mun_soc')\n",
    "\n",
    "# tr_calc = RegTrCalc(municipalities_df)\n",
    "# tr_calc.generate_tr()\n",
    "\n",
    "# dp.save_dataset(dataset=tr_calc.trs,\n",
    "#                 collection_name='trs',\n",
    "#                 version_name='base')\n",
    "\n",
    "# trs = dp.get_dataset(dataset_name='trs',\n",
    "#                      version_name='base')"
   ]
  },
  {
   "cell_type": "markdown",
   "metadata": {
    "scrolled": true
   },
   "source": [
    "### Генерация базовой матрицы потоков"
   ]
  },
  {
   "cell_type": "code",
   "execution_count": 3,
   "metadata": {},
   "outputs": [],
   "source": [
    "# trs = dp.get_dataset(dataset_name='trs',\n",
    "#                      version_name='base')\n",
    "# flows_base = dp.get_dataset(dataset_name='flows')\n",
    "# plos_express_info = dp.get_dataset(dataset_name='plos_express_info')\n",
    "\n",
    "# regbf_calc = RegBaseFlowCalc(trs=trs,\n",
    "#                              flows_base=flows_base,\n",
    "#                              plos_express_info=plos_express_info)\n",
    "# regbf_calc.generate_base_matrix()\n",
    "\n",
    "# dp.save_dataset(dataset=regbf_calc.save_dict,\n",
    "#                 collection_name='flow_base_matrix',\n",
    "#                 version_name='base')\n",
    "\n",
    "# fbm = dp.get_dataset(dataset_name='flow_base_matrix',\n",
    "#                 version_name='base')"
   ]
  },
  {
   "cell_type": "code",
   "execution_count": 5,
   "metadata": {},
   "outputs": [],
   "source": []
  },
  {
   "cell_type": "markdown",
   "metadata": {},
   "source": [
    "### Генерация матрицы расстояний"
   ]
  },
  {
   "cell_type": "code",
   "execution_count": null,
   "metadata": {},
   "outputs": [],
   "source": []
  }
 ],
 "metadata": {
  "kernelspec": {
   "display_name": "Python 3",
   "language": "python",
   "name": "python3"
  },
  "language_info": {
   "codemirror_mode": {
    "name": "ipython",
    "version": 3
   },
   "file_extension": ".py",
   "mimetype": "text/x-python",
   "name": "python",
   "nbconvert_exporter": "python",
   "pygments_lexer": "ipython3",
   "version": "3.7.6"
  }
 },
 "nbformat": 4,
 "nbformat_minor": 4
}
